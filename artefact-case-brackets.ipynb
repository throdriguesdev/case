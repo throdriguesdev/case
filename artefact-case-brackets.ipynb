{
 "cells": [
  {
   "cell_type": "code",
   "execution_count": 2,
   "id": "0cb6bf4c",
   "metadata": {},
   "outputs": [
    {
     "name": "stdout",
     "output_type": "stream",
     "text": [
      "Sintaxe de '()(()())' está correta? True\n",
      "Sintaxe de '((())))' está correta? False\n",
      "Sintaxe de ')(())' está correta? False\n"
     ]
    }
   ],
   "source": [
    "def verifica_sintaxe_colchetes(s):\n",
    "    \"\"\"\n",
    "    Verifica se a sintaxe dos colchetes está correta em uma string.\n",
    "\n",
    "    :param s: String contendo colchetes de abertura e fechamento.\n",
    "    :return: True se a sintaxe estiver correta, False caso contrário.\n",
    "    \"\"\"\n",
    "    pilha = []\n",
    "\n",
    "    # Itera sobre cada caractere na string\n",
    "    for char in s:\n",
    "        if char == '(':\n",
    "            # Se encontrar um colchete de abertura, adiciona à pilha\n",
    "            pilha.append(char)\n",
    "        elif char == ')':\n",
    "            # Se encontrar um colchete de fechamento, verifica se há correspondência com um colchete de abertura\n",
    "            if not pilha:\n",
    "                # Se a pilha estiver vazia, há um colchete de fechamento sem correspondência\n",
    "                return False\n",
    "            pilha.pop()  # Remove o colchete de abertura correspondente\n",
    "\n",
    "    # A sintaxe está correta se a pilha estiver vazia no final\n",
    "    return not pilha\n",
    "\n",
    "# Exemplos de uso\n",
    "exemplo1 = \"()(()())\"  # Sintaxe correta\n",
    "exemplo2 = \"((())))\"   # Sintaxe incorreta\n",
    "exemplo3 = \")(())\"     # Sintaxe incorreta\n",
    "\n",
    "# Verifica os exemplos\n",
    "resultado1 = verifica_sintaxe_colchetes(exemplo1)\n",
    "resultado2 = verifica_sintaxe_colchetes(exemplo2)\n",
    "resultado3 = verifica_sintaxe_colchetes(exemplo3)\n",
    "\n",
    "# Mostra os resultados\n",
    "print(f\"Sintaxe de '{exemplo1}' está correta? {resultado1}\")\n",
    "print(f\"Sintaxe de '{exemplo2}' está correta? {resultado2}\")\n",
    "print(f\"Sintaxe de '{exemplo3}' está correta? {resultado3}\")\n"
   ]
  },
  {
   "cell_type": "code",
   "execution_count": null,
   "id": "13936e30",
   "metadata": {},
   "outputs": [],
   "source": []
  }
 ],
 "metadata": {
  "kernelspec": {
   "display_name": "Python 3 (ipykernel)",
   "language": "python",
   "name": "python3"
  },
  "language_info": {
   "codemirror_mode": {
    "name": "ipython",
    "version": 3
   },
   "file_extension": ".py",
   "mimetype": "text/x-python",
   "name": "python",
   "nbconvert_exporter": "python",
   "pygments_lexer": "ipython3",
   "version": "3.11.4"
  }
 },
 "nbformat": 4,
 "nbformat_minor": 5
}
