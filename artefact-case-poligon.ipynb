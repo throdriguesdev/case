{
 "cells": [
  {
   "cell_type": "code",
   "execution_count": 1,
   "id": "e222ddbd",
   "metadata": {},
   "outputs": [
    {
     "name": "stdout",
     "output_type": "stream",
     "text": [
      "Polígono original: [(1, 1), (1, 2), (1, 3), (2, 3), (2, 4), (3, 4), (3, 3), (3, 2), (2, 2), (2, 1), (1, 1)]\n",
      "Polígono otimizado: [(1, 1), (1, 3), (2, 3), (2, 4), (3, 4), (3, 2), (2, 2), (2, 1), (1, 1)]\n"
     ]
    }
   ],
   "source": [
    "def otimizar_poligono(points):\n",
    "    \"\"\"\n",
    "    Retorna uma lista reduzida de pontos que define o mesmo polígono.\n",
    "\n",
    "    :param points: Lista de pontos representando o polígono.\n",
    "    :return: Lista reduzida de pontos.\n",
    "    \"\"\"\n",
    "    # Verifica se três pontos consecutivos são colineares\n",
    "    def colinear(p1, p2, p3):\n",
    "        x1, y1 = p1\n",
    "        x2, y2 = p2\n",
    "        x3, y3 = p3\n",
    "        return (y2 - y1) * (x3 - x2) == (y3 - y2) * (x2 - x1)\n",
    "\n",
    "    resultado = [points[0]]  # Adiciona o primeiro ponto\n",
    "\n",
    "    for i in range(1, len(points) - 1):\n",
    "        # Se três pontos consecutivos não estão em linha reta, adiciona o ponto ao resultado\n",
    "        if not colinear(points[i - 1], points[i], points[i + 1]):\n",
    "            resultado.append(points[i])\n",
    "\n",
    "    resultado.append(points[-1])  # Adiciona o último ponto\n",
    "\n",
    "    return resultado\n",
    "\n",
    "# Exemplo de uso\n",
    "points = [(1, 1), (1, 2), (1, 3), (2, 3), (2, 4), (3, 4), (3, 3), (3, 2), (2, 2), (2, 1), (1, 1)]\n",
    "poligono_otimizado = otimizar_poligono(points)\n",
    "\n",
    "# Mostra o resultado\n",
    "print(\"Polígono original:\", points)\n",
    "print(\"Polígono otimizado:\", poligono_otimizado)\n"
   ]
  },
  {
   "cell_type": "code",
   "execution_count": 2,
   "id": "846c6423",
   "metadata": {},
   "outputs": [
    {
     "name": "stdout",
     "output_type": "stream",
     "text": [
      "Polígono 1 original: [(1, 1), (1, 2), (1, 3), (2, 3), (2, 4), (3, 4), (3, 3), (3, 2), (2, 2), (2, 1), (1, 1)]\n",
      "Polígono 1 otimizado: [(1, 1), (1, 3), (2, 3), (2, 4), (3, 4), (3, 2), (2, 2), (2, 1), (1, 1)]\n",
      "Polígono 2 original: [(0, 0), (0, 1), (1, 1), (1, 0), (0, 0)]\n",
      "Polígono 2 otimizado: [(0, 0), (0, 1), (1, 1), (1, 0), (0, 0)]\n"
     ]
    }
   ],
   "source": [
    "def otimizar_poligono(points):\n",
    "    \"\"\"\n",
    "    Retorna uma lista reduzida de pontos que define o mesmo polígono.\n",
    "\n",
    "    :param points: Lista de pontos representando o polígono.\n",
    "    :return: Lista reduzida de pontos.\n",
    "    \"\"\"\n",
    "    if len(points) < 3:\n",
    "        # Um polígono precisa de pelo menos 3 pontos\n",
    "        return points\n",
    "\n",
    "    # Verifica se três pontos consecutivos são colineares\n",
    "    def colinear(p1, p2, p3):\n",
    "        x1, y1 = p1\n",
    "        x2, y2 = p2\n",
    "        x3, y3 = p3\n",
    "        return (y2 - y1) * (x3 - x2) == (y3 - y2) * (x2 - x1)\n",
    "\n",
    "    resultado = [points[0]]  # Adiciona o primeiro ponto\n",
    "\n",
    "    for i in range(1, len(points) - 1):\n",
    "        # Se três pontos consecutivos não estão em linha reta, adiciona o ponto ao resultado\n",
    "        if not colinear(points[i - 1], points[i], points[i + 1]):\n",
    "            resultado.append(points[i])\n",
    "\n",
    "    resultado.append(points[-1])  # Adiciona o último ponto\n",
    "\n",
    "    return resultado\n",
    "\n",
    "# Exemplo de uso\n",
    "points1 = [(1, 1), (1, 2), (1, 3), (2, 3), (2, 4), (3, 4), (3, 3), (3, 2), (2, 2), (2, 1), (1, 1)]\n",
    "points2 = [(0, 0), (0, 1), (1, 1), (1, 0), (0, 0)]\n",
    "\n",
    "poligono_otimizado1 = otimizar_poligono(points1)\n",
    "poligono_otimizado2 = otimizar_poligono(points2)\n",
    "\n",
    "# Mostra os resultados\n",
    "print(\"Polígono 1 original:\", points1)\n",
    "print(\"Polígono 1 otimizado:\", poligono_otimizado1)\n",
    "print(\"Polígono 2 original:\", points2)\n",
    "print(\"Polígono 2 otimizado:\", poligono_otimizado2)\n"
   ]
  },
  {
   "cell_type": "code",
   "execution_count": null,
   "id": "be91a41a",
   "metadata": {},
   "outputs": [
    {
     "name": "stdout",
     "output_type": "stream",
     "text": [
      "Digite os pontos do polígono. Insira 'fim' para encerrar a entrada.\n"
     ]
    }
   ],
   "source": [
    "def obter_pontos_do_usuario():\n",
    "    \"\"\"\n",
    "    Solicita ao usuário que insira os pontos do polígono.\n",
    "\n",
    "    :return: Lista de pontos fornecidos pelo usuário.\n",
    "    \"\"\"\n",
    "    pontos = []\n",
    "    print(\"Digite os pontos do polígono. Insira 'fim' para encerrar a entrada.\")\n",
    "\n",
    "    while True:\n",
    "        entrada = input(\"Digite um ponto no formato (x, y): \")\n",
    "        \n",
    "        if entrada.lower() == 'fim':\n",
    "            break\n",
    "\n",
    "        try:\n",
    "            ponto = eval(entrada)\n",
    "            if isinstance(ponto, tuple) and len(ponto) == 2:\n",
    "                pontos.append(ponto)\n",
    "            else:\n",
    "                print(\"Formato inválido. Tente novamente.\")\n",
    "        except Exception as e:\n",
    "            print(f\"Erro: {e}. Tente novamente.\")\n",
    "\n",
    "    return pontos\n",
    "\n",
    "# Obtém os pontos do usuário\n",
    "pontos_do_usuario = obter_pontos_do_usuario()\n",
    "\n",
    "# Otimiza o polígono\n",
    "poligono_otimizado = otimizar_poligono(pontos_do_usuario)\n",
    "\n",
    "# Mostra os resultados\n",
    "print(\"Pontos do polígono fornecidos pelo usuário:\", pontos_do_usuario)\n",
    "print(\"Polígono otimizado:\", poligono_otimizado)\n"
   ]
  },
  {
   "cell_type": "code",
   "execution_count": null,
   "id": "15bcb230",
   "metadata": {},
   "outputs": [],
   "source": []
  }
 ],
 "metadata": {
  "kernelspec": {
   "display_name": "Python 3 (ipykernel)",
   "language": "python",
   "name": "python3"
  },
  "language_info": {
   "codemirror_mode": {
    "name": "ipython",
    "version": 3
   },
   "file_extension": ".py",
   "mimetype": "text/x-python",
   "name": "python",
   "nbconvert_exporter": "python",
   "pygments_lexer": "ipython3",
   "version": "3.11.4"
  }
 },
 "nbformat": 4,
 "nbformat_minor": 5
}
